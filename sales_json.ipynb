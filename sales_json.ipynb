{
  "nbformat": 4,
  "nbformat_minor": 0,
  "metadata": {
    "colab": {
      "name": "sales.json",
      "provenance": []
    },
    "kernelspec": {
      "name": "python3",
      "display_name": "Python 3"
    },
    "language_info": {
      "name": "python"
    }
  },
  "cells": [
    {
      "cell_type": "code",
      "metadata": {
        "colab": {
          "base_uri": "https://localhost:8080/"
        },
        "id": "I0E6djgh1tKm",
        "outputId": "67c13394-6051-423b-cbb3-954d168ce232"
      },
      "source": [
        "[{\"transactionId\":111,\"customerId\":1,\"itemId\": 1,\"amountPaid\": 100.0},{\"transactionId\":112,\"customerId\":2,\"itemId\": 2,\"amountPaid\": 505.0},{\"transactionId\":113,\"customerId\":3,\"itemId\": 3,\"amountPaid\": 510.0},{\"transactionId\":114,\"customerId\":4,\"itemId\": 4,\"amountPaid\": 600.0},{\"transactionId\":115,\"customerId\":1,\"itemId\": 2,\"amountPaid\": 500.0},{\"transactionId\":116,\"customerId\":1,\"itemId\": 2,\"amountPaid\": 500.0},{\"transactionId\":117,\"customerId\":1,\"itemId\": 2,\"amountPaid\": 500.0},{\"transactionId\":118,\"customerId\":1,\"itemId\": 2,\"amountPaid\": 500.0},{\"transactionId\":119,\"customerId\":2,\"itemId\": 3,\"amountPaid\": 500.0},{\"transactionId\":120,\"customerId\":1,\"itemId\": 2,\"amountPaid\": 500.0},{\"transactionId\":121,\"customerId\":1,\"itemId\": 4,\"amountPaid\": 500.0},{\"transactionId\":122,\"customerId\":1,\"itemId\": 2,\"amountPaid\": 500.0},{\"transactionId\":123,\"customerId\":1,\"itemId\": 4,\"amountPaid\": 500.0},{\"transactionId\":124,\"customerId\":1,\"itemId\": 2,\"amountPaid\": 500.0}]\n"
      ],
      "execution_count": 1,
      "outputs": [
        {
          "output_type": "execute_result",
          "data": {
            "text/plain": [
              "[{'amountPaid': 100.0, 'customerId': 1, 'itemId': 1, 'transactionId': 111},\n",
              " {'amountPaid': 505.0, 'customerId': 2, 'itemId': 2, 'transactionId': 112},\n",
              " {'amountPaid': 510.0, 'customerId': 3, 'itemId': 3, 'transactionId': 113},\n",
              " {'amountPaid': 600.0, 'customerId': 4, 'itemId': 4, 'transactionId': 114},\n",
              " {'amountPaid': 500.0, 'customerId': 1, 'itemId': 2, 'transactionId': 115},\n",
              " {'amountPaid': 500.0, 'customerId': 1, 'itemId': 2, 'transactionId': 116},\n",
              " {'amountPaid': 500.0, 'customerId': 1, 'itemId': 2, 'transactionId': 117},\n",
              " {'amountPaid': 500.0, 'customerId': 1, 'itemId': 2, 'transactionId': 118},\n",
              " {'amountPaid': 500.0, 'customerId': 2, 'itemId': 3, 'transactionId': 119},\n",
              " {'amountPaid': 500.0, 'customerId': 1, 'itemId': 2, 'transactionId': 120},\n",
              " {'amountPaid': 500.0, 'customerId': 1, 'itemId': 4, 'transactionId': 121},\n",
              " {'amountPaid': 500.0, 'customerId': 1, 'itemId': 2, 'transactionId': 122},\n",
              " {'amountPaid': 500.0, 'customerId': 1, 'itemId': 4, 'transactionId': 123},\n",
              " {'amountPaid': 500.0, 'customerId': 1, 'itemId': 2, 'transactionId': 124}]"
            ]
          },
          "metadata": {},
          "execution_count": 1
        }
      ]
    }
  ]
}